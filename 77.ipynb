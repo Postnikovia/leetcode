{
 "cells": [
  {
   "cell_type": "code",
   "execution_count": 29,
   "id": "c27652ca",
   "metadata": {},
   "outputs": [
    {
     "data": {
      "text/plain": [
       "13"
      ]
     },
     "execution_count": 29,
     "metadata": {},
     "output_type": "execute_result"
    }
   ],
   "source": [
    "class Solution(object):\n",
    "    def climbStairs(self, n):\n",
    "        \"\"\"\n",
    "        :type n: int\n",
    "        :rtype: int\n",
    "        \"\"\"\n",
    "        \n",
    "        number_of_two = n // 2\n",
    "        count_of_combination = 1\n",
    "        for i in range(1, number_of_two+1):\n",
    "            tmp_number_of_one = n - 2*i\n",
    "            count_of_combination += self.count_combination(i, tmp_number_of_one)\n",
    "        return count_of_combination\n",
    "            \n",
    "        \n",
    "    @staticmethod\n",
    "    def count_combination(number_of_two, number_of_one):\n",
    "        count_comb = 1\n",
    "        for i in range(number_of_two):\n",
    "            count_comb *= number_of_two+number_of_one-i\n",
    "        return int(count_comb/Solution.fact(number_of_two))\n",
    "    \n",
    "    \n",
    "    @staticmethod\n",
    "    def fact(k):\n",
    "        if k == 1:\n",
    "            return k\n",
    "        else:\n",
    "            return k*Solution.fact(k-1)\n",
    "\n",
    "\n",
    "func = Solution()\n",
    "func.climbStairs(6)"
   ]
  },
  {
   "cell_type": "code",
   "execution_count": 3,
   "id": "c26f7429",
   "metadata": {},
   "outputs": [
    {
     "name": "stdout",
     "output_type": "stream",
     "text": [
      "720\n"
     ]
    }
   ],
   "source": [
    "def fact(k):\n",
    "    if k==1:\n",
    "        return k\n",
    "    else:\n",
    "        return k*fact(k-1)\n",
    "    \n",
    "print(fact(6))"
   ]
  },
  {
   "cell_type": "code",
   "execution_count": null,
   "id": "cfb30a50",
   "metadata": {},
   "outputs": [],
   "source": [
    "1+6+10+"
   ]
  }
 ],
 "metadata": {
  "kernelspec": {
   "display_name": "Python 3 (ipykernel)",
   "language": "python",
   "name": "python3"
  },
  "language_info": {
   "codemirror_mode": {
    "name": "ipython",
    "version": 3
   },
   "file_extension": ".py",
   "mimetype": "text/x-python",
   "name": "python",
   "nbconvert_exporter": "python",
   "pygments_lexer": "ipython3",
   "version": "3.9.7"
  }
 },
 "nbformat": 4,
 "nbformat_minor": 5
}
